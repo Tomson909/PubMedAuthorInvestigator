{
 "cells": [
  {
   "cell_type": "markdown",
   "metadata": {},
   "source": [
    "# Abstract Encoder\n",
    "This notebook is part of the streamlit application, which is contained in this directory. The result of this investigation is displayed in the application. The goal of this notebook is to investigate document embeddings using 2 pretrained models from huggingface and compare the results. After performing the document embedding we will perform Principal Component Analysis(PCA) in order to give the user an idea what different clusters of topics the person worked in. No clustering will be performed."
   ]
  },
  {
   "cell_type": "code",
   "execution_count": 81,
   "metadata": {},
   "outputs": [],
   "source": [
    "#import streamlit as st\n",
    "from pubmed_crawler import SinglePubMedSearcher\n",
    "import os\n",
    "import json\n",
    "import pandas as pd\n",
    "import plotly.express as px\n",
    "from collections import Counter\n",
    "import torch\n",
    "from transformers import AutoTokenizer, AutoModel\n",
    "import matplotlib.pyplot as plt\n",
    "from sklearn.decomposition import PCA\n",
    "from sklearn.cluster import AgglomerativeClustering\n",
    "import scipy.cluster.hierarchy as sch\n",
    "import numpy as np\n",
    "from pprint import pprint"
   ]
  },
  {
   "cell_type": "markdown",
   "metadata": {},
   "source": [
    "## IDA and EDA\n",
    "In the next part we will import the scraped data and also additional information to evaluate the model and build the final plotly graph."
   ]
  },
  {
   "cell_type": "code",
   "execution_count": 82,
   "metadata": {},
   "outputs": [
    {
     "name": "stdout",
     "output_type": "stream",
     "text": [
      "Number of papers: 25\n",
      "Number of abstracts: 25\n"
     ]
    }
   ],
   "source": [
    "name = 'Menon_Anil'\n",
    "dir_name = '/home/tom-ruge/Schreibtisch/Fachhochschule/Semester_2/Social Media Analytics/StalkYourProf/results/' + name + '/processed/'\n",
    "pubmed_endpoint = 'https://pubmed.ncbi.nlm.nih.gov/'\n",
    "\n",
    "def get_paper(dir_name):\n",
    "    return [os.path.join(dir_name, file_name) for file_name in os.listdir(dir_name)]\n",
    "\n",
    "def get_number_of_papers(dir_name):\n",
    "    return len(os.listdir(dir_name))\n",
    "\n",
    "def get_paper_data(file_names):\n",
    "    results = []\n",
    "    for file_name in file_names:\n",
    "        with open(file_name, 'r') as file:\n",
    "            data = json.load(file)\n",
    "            results.append(data)\n",
    "    return results\n",
    "\n",
    "def get_abstracts_pmid(paper_data, pubmed_endpoint):\n",
    "    abstracts = []\n",
    "    pmids = []\n",
    "    for data in paper_data:\n",
    "        try:\n",
    "            abstracts.extend(data['TI'])\n",
    "            #print(list(data['PMID'])[0])\n",
    "            pmids.append(pubmed_endpoint + list(data['PMID'])[0] + '/')\n",
    "        except KeyError:\n",
    "            pass\n",
    "    return abstracts, pmids\n",
    "\n",
    "file_names = get_paper(dir_name)\n",
    "paper_data = get_paper_data(file_names)\n",
    "abstracts, pmids = get_abstracts_pmid(paper_data, pubmed_endpoint)\n",
    "\n",
    "print('Number of papers:', get_number_of_papers(dir_name))\n",
    "print('Number of abstracts:', len(abstracts))"
   ]
  },
  {
   "cell_type": "markdown",
   "metadata": {},
   "source": [
    "Not all papers on PubMead seem to contain abstracts. But most of them seem to have since it is the most important information if you are searching for appropriate papers for your needs. Now we will investigate some abstracts to get an idea of how the extracted abstracts look like:"
   ]
  },
  {
   "cell_type": "code",
   "execution_count": 83,
   "metadata": {},
   "outputs": [
    {
     "name": "stdout",
     "output_type": "stream",
     "text": [
      "https://pubmed.ncbi.nlm.nih.gov/23869315/ : \n",
      "\"Thymic hyperplasia in Graves' disease.\"\n",
      "-----------\n",
      "https://pubmed.ncbi.nlm.nih.gov/37457519/ : \n",
      "('Coexistence of human immunodeficiency virus infection and autoimmune '\n",
      " 'hepatitis: A double trouble.')\n"
     ]
    }
   ],
   "source": [
    "print(pmids[0],': ')\n",
    "pprint(abstracts[0])\n",
    "print('-----------')\n",
    "print(pmids[10],': ')\n",
    "pprint(abstracts[10])"
   ]
  },
  {
   "cell_type": "markdown",
   "metadata": {},
   "source": [
    "The papers are structured different. The first displayed abstact does not contain structure which indicates 'BACKGROUND & AIMS' and etc... But the length is approx. equally long. I do not have domain knowleddge to further investigate the content. In the next step we will investigate the number of words in each abstracts."
   ]
  },
  {
   "cell_type": "code",
   "execution_count": 84,
   "metadata": {},
   "outputs": [
    {
     "data": {
      "application/vnd.plotly.v1+json": {
       "config": {
        "plotlyServerURL": "https://plot.ly"
       },
       "data": [
        {
         "alignmentgroup": "True",
         "bingroup": "x",
         "hovertemplate": "Word Count=%{x}<br>count=%{y}<extra></extra>",
         "legendgroup": "",
         "marker": {
          "color": "blue",
          "pattern": {
           "shape": ""
          }
         },
         "name": "",
         "offsetgroup": "",
         "orientation": "v",
         "showlegend": false,
         "type": "histogram",
         "x": [
          5,
          13,
          12,
          9,
          20,
          12,
          18,
          8,
          6,
          9,
          12,
          4,
          16,
          15,
          15,
          11,
          12,
          13,
          8,
          19,
          19,
          9,
          9,
          8,
          6
         ],
         "xaxis": "x",
         "yaxis": "y"
        }
       ],
       "layout": {
        "barmode": "relative",
        "legend": {
         "tracegroupgap": 0
        },
        "paper_bgcolor": "white",
        "plot_bgcolor": "white",
        "template": {
         "data": {
          "candlestick": [
           {
            "decreasing": {
             "line": {
              "color": "#000033"
             }
            },
            "increasing": {
             "line": {
              "color": "#000032"
             }
            },
            "type": "candlestick"
           }
          ],
          "contour": [
           {
            "colorscale": [
             [
              0,
              "#000011"
             ],
             [
              0.1111111111111111,
              "#000012"
             ],
             [
              0.2222222222222222,
              "#000013"
             ],
             [
              0.3333333333333333,
              "#000014"
             ],
             [
              0.4444444444444444,
              "#000015"
             ],
             [
              0.5555555555555556,
              "#000016"
             ],
             [
              0.6666666666666666,
              "#000017"
             ],
             [
              0.7777777777777778,
              "#000018"
             ],
             [
              0.8888888888888888,
              "#000019"
             ],
             [
              1,
              "#000020"
             ]
            ],
            "type": "contour"
           }
          ],
          "contourcarpet": [
           {
            "colorscale": [
             [
              0,
              "#000011"
             ],
             [
              0.1111111111111111,
              "#000012"
             ],
             [
              0.2222222222222222,
              "#000013"
             ],
             [
              0.3333333333333333,
              "#000014"
             ],
             [
              0.4444444444444444,
              "#000015"
             ],
             [
              0.5555555555555556,
              "#000016"
             ],
             [
              0.6666666666666666,
              "#000017"
             ],
             [
              0.7777777777777778,
              "#000018"
             ],
             [
              0.8888888888888888,
              "#000019"
             ],
             [
              1,
              "#000020"
             ]
            ],
            "type": "contourcarpet"
           }
          ],
          "heatmap": [
           {
            "colorscale": [
             [
              0,
              "#000011"
             ],
             [
              0.1111111111111111,
              "#000012"
             ],
             [
              0.2222222222222222,
              "#000013"
             ],
             [
              0.3333333333333333,
              "#000014"
             ],
             [
              0.4444444444444444,
              "#000015"
             ],
             [
              0.5555555555555556,
              "#000016"
             ],
             [
              0.6666666666666666,
              "#000017"
             ],
             [
              0.7777777777777778,
              "#000018"
             ],
             [
              0.8888888888888888,
              "#000019"
             ],
             [
              1,
              "#000020"
             ]
            ],
            "type": "heatmap"
           }
          ],
          "histogram2d": [
           {
            "colorscale": [
             [
              0,
              "#000011"
             ],
             [
              0.1111111111111111,
              "#000012"
             ],
             [
              0.2222222222222222,
              "#000013"
             ],
             [
              0.3333333333333333,
              "#000014"
             ],
             [
              0.4444444444444444,
              "#000015"
             ],
             [
              0.5555555555555556,
              "#000016"
             ],
             [
              0.6666666666666666,
              "#000017"
             ],
             [
              0.7777777777777778,
              "#000018"
             ],
             [
              0.8888888888888888,
              "#000019"
             ],
             [
              1,
              "#000020"
             ]
            ],
            "type": "histogram2d"
           }
          ],
          "icicle": [
           {
            "textfont": {
             "color": "white"
            },
            "type": "icicle"
           }
          ],
          "sankey": [
           {
            "textfont": {
             "color": "#000036"
            },
            "type": "sankey"
           }
          ],
          "scatter": [
           {
            "marker": {
             "line": {
              "width": 0
             }
            },
            "type": "scatter"
           }
          ],
          "table": [
           {
            "cells": {
             "fill": {
              "color": "#000038"
             },
             "font": {
              "color": "#000037"
             },
             "line": {
              "color": "#000039"
             }
            },
            "header": {
             "fill": {
              "color": "#000040"
             },
             "font": {
              "color": "#000036"
             },
             "line": {
              "color": "#000039"
             }
            },
            "type": "table"
           }
          ],
          "waterfall": [
           {
            "connector": {
             "line": {
              "color": "#000036",
              "width": 2
             }
            },
            "decreasing": {
             "marker": {
              "color": "#000033"
             }
            },
            "increasing": {
             "marker": {
              "color": "#000032"
             }
            },
            "totals": {
             "marker": {
              "color": "#000034"
             }
            },
            "type": "waterfall"
           }
          ]
         },
         "layout": {
          "coloraxis": {
           "colorscale": [
            [
             0,
             "#000011"
            ],
            [
             0.1111111111111111,
             "#000012"
            ],
            [
             0.2222222222222222,
             "#000013"
            ],
            [
             0.3333333333333333,
             "#000014"
            ],
            [
             0.4444444444444444,
             "#000015"
            ],
            [
             0.5555555555555556,
             "#000016"
            ],
            [
             0.6666666666666666,
             "#000017"
            ],
            [
             0.7777777777777778,
             "#000018"
            ],
            [
             0.8888888888888888,
             "#000019"
            ],
            [
             1,
             "#000020"
            ]
           ]
          },
          "colorscale": {
           "diverging": [
            [
             0,
             "#000021"
            ],
            [
             0.1,
             "#000022"
            ],
            [
             0.2,
             "#000023"
            ],
            [
             0.3,
             "#000024"
            ],
            [
             0.4,
             "#000025"
            ],
            [
             0.5,
             "#000026"
            ],
            [
             0.6,
             "#000027"
            ],
            [
             0.7,
             "#000028"
            ],
            [
             0.8,
             "#000029"
            ],
            [
             0.9,
             "#000030"
            ],
            [
             1,
             "#000031"
            ]
           ],
           "sequential": [
            [
             0,
             "#000011"
            ],
            [
             0.1111111111111111,
             "#000012"
            ],
            [
             0.2222222222222222,
             "#000013"
            ],
            [
             0.3333333333333333,
             "#000014"
            ],
            [
             0.4444444444444444,
             "#000015"
            ],
            [
             0.5555555555555556,
             "#000016"
            ],
            [
             0.6666666666666666,
             "#000017"
            ],
            [
             0.7777777777777778,
             "#000018"
            ],
            [
             0.8888888888888888,
             "#000019"
            ],
            [
             1,
             "#000020"
            ]
           ],
           "sequentialminus": [
            [
             0,
             "#000011"
            ],
            [
             0.1111111111111111,
             "#000012"
            ],
            [
             0.2222222222222222,
             "#000013"
            ],
            [
             0.3333333333333333,
             "#000014"
            ],
            [
             0.4444444444444444,
             "#000015"
            ],
            [
             0.5555555555555556,
             "#000016"
            ],
            [
             0.6666666666666666,
             "#000017"
            ],
            [
             0.7777777777777778,
             "#000018"
            ],
            [
             0.8888888888888888,
             "#000019"
            ],
            [
             1,
             "#000020"
            ]
           ]
          },
          "colorway": [
           "#000001",
           "#000002",
           "#000003",
           "#000004",
           "#000005",
           "#000006",
           "#000007",
           "#000008",
           "#000009",
           "#000010"
          ]
         }
        },
        "title": {
         "font": {
          "size": 20
         },
         "text": "Word Count Distribution of Abstracts"
        },
        "xaxis": {
         "anchor": "y",
         "domain": [
          0,
          1
         ],
         "gridcolor": "lightgray",
         "showgrid": true,
         "title": {
          "text": "Word Count"
         }
        },
        "yaxis": {
         "anchor": "x",
         "domain": [
          0,
          1
         ],
         "gridcolor": "lightgray",
         "showgrid": true,
         "title": {
          "text": "count"
         }
        }
       }
      }
     },
     "metadata": {},
     "output_type": "display_data"
    }
   ],
   "source": [
    "def plot_word_counts(abstracts):\n",
    "    # Count the number of words in each abstract\n",
    "    word_counts = [len(abstract.split()) for abstract in abstracts]\n",
    "    # Create a histogram of the word counts with a standard color scheme\n",
    "    fig = px.histogram(\n",
    "        x=word_counts, \n",
    "        title='Word Count Distribution of Abstracts',\n",
    "        labels={'x': 'Word Count', 'y': 'Frequency'},  # Axis labels\n",
    "        color_discrete_sequence=['blue']  # Set a standard color for the bars\n",
    "    )\n",
    "    # Update layout to avoid the black background\n",
    "    fig.update_layout(\n",
    "        plot_bgcolor='white',  # Background of the plot\n",
    "        paper_bgcolor='white',  # Background of the entire figure\n",
    "        title_font=dict(size=20),  # Font size of the title\n",
    "        xaxis=dict(showgrid=True, gridcolor='lightgray'),  # Grid lines for the x-axis\n",
    "        yaxis=dict(showgrid=True, gridcolor='lightgray')   # Grid lines for the y-axis\n",
    "    )\n",
    "    # Show the figure\n",
    "    fig.show()\n",
    "\n",
    "# Example usage\n",
    "plot_word_counts(abstracts)\n"
   ]
  },
  {
   "cell_type": "markdown",
   "metadata": {},
   "source": [
    "Most abstracts contain around 200 to 300 words, but some only contain very few words. In the next step we will import the biobert model:"
   ]
  },
  {
   "cell_type": "code",
   "execution_count": 85,
   "metadata": {},
   "outputs": [],
   "source": [
    "# Load the BioBERT model and tokenizer\n",
    "model_name = \"dmis-lab/biobert-v1.1\" # BioBERT model\n",
    "tokenizer = AutoTokenizer.from_pretrained(model_name) # Load the tokenizer\n",
    "model = AutoModel.from_pretrained(model_name) # Load the model"
   ]
  },
  {
   "cell_type": "code",
   "execution_count": 86,
   "metadata": {},
   "outputs": [],
   "source": [
    "# # Function to get embeddings from a list of documents\n",
    "# def get_embeddings(documents):\n",
    "#     inputs = tokenizer(documents, return_tensors='pt', padding=True, truncation=True)\n",
    "#     with torch.no_grad():\n",
    "#         outputs = model(**inputs)\n",
    "#     return outputs.last_hidden_state[:, 0, :].numpy()\n",
    "\n",
    "# # Sample biomedical texts (abstracts)\n",
    "# documents = abstracts\n",
    "\n",
    "# # Get embeddings\n",
    "# embeddings = get_embeddings(documents)\n"
   ]
  },
  {
   "cell_type": "code",
   "execution_count": 87,
   "metadata": {},
   "outputs": [],
   "source": [
    "# Function to get embeddings from a list of documents\n",
    "def get_embeddings(documents):\n",
    "    all_embeddings = []\n",
    "    for i in range(0, len(documents), 8):  # Process in batches of 8 (or other sizes)\n",
    "        inputs = tokenizer(documents[i:i+8], return_tensors='pt', padding=True, truncation=True)\n",
    "        with torch.no_grad():\n",
    "            outputs = model(**inputs)\n",
    "        # Mean pooling instead of just the [CLS] token\n",
    "        embeddings = outputs.last_hidden_state.mean(dim=1).numpy()\n",
    "        all_embeddings.extend(embeddings)\n",
    "    return np.array(all_embeddings)\n",
    "\n",
    "# Sample biomedical texts (abstracts)\n",
    "documents = abstracts  # Ensure this is a valid list of abstracts\n",
    "\n",
    "# Get embeddings\n",
    "embeddings = get_embeddings(documents)\n",
    "\n",
    "# Dimensionality reduction using PCA for visualization\n",
    "pca = PCA(n_components=2)\n",
    "reduced_embeddings = pca.fit_transform(embeddings)\n"
   ]
  },
  {
   "cell_type": "code",
   "execution_count": 88,
   "metadata": {},
   "outputs": [
    {
     "data": {
      "text/html": [
       "\n",
       "        <iframe\n",
       "            width=\"100%\"\n",
       "            height=\"650\"\n",
       "            src=\"http://127.0.0.1:8050/\"\n",
       "            frameborder=\"0\"\n",
       "            allowfullscreen\n",
       "            \n",
       "        ></iframe>\n",
       "        "
      ],
      "text/plain": [
       "<IPython.lib.display.IFrame object at 0x75da4ec1a560>"
      ]
     },
     "metadata": {},
     "output_type": "display_data"
    }
   ],
   "source": [
    "import plotly.express as px\n",
    "import pandas as pd\n",
    "import dash\n",
    "from dash import dcc, html\n",
    "from dash.dependencies import Input, Output\n",
    "import webbrowser\n",
    "\n",
    "def plot_embeddings_with_dash(embeddings, documents, urls):\n",
    "    # Create a DataFrame to hold the embedding data and corresponding document info\n",
    "    df = pd.DataFrame({\n",
    "        'PCA Component 1': embeddings[:, 0],\n",
    "        'PCA Component 2': embeddings[:, 1],\n",
    "        'URL': urls\n",
    "    })\n",
    "\n",
    "    # Create the Dash app\n",
    "    app = dash.Dash(__name__)\n",
    "\n",
    "    # Define the layout\n",
    "    app.layout = html.Div([\n",
    "        dcc.Graph(\n",
    "            id='scatter-plot',\n",
    "            figure=px.scatter(\n",
    "                df,\n",
    "                x='PCA Component 1',\n",
    "                y='PCA Component 2',\n",
    "                title='BioBERT Document Embeddings with Clusters',\n",
    "                hover_data={'URL': True},\n",
    "                labels={'PCA Component 1': 'PCA Component 1', 'PCA Component 2': 'PCA Component 2'},\n",
    "                template='plotly_white'\n",
    "            ).update_traces(marker=dict(size=8, color='blue'), mode='markers+text', textposition='top center'),\n",
    "            style={'width': '80%', 'height': '600px'}\n",
    "        ),\n",
    "        html.Div(id='output-div', style={'margin-top': '20px', 'font-size': '16px'})\n",
    "    ])\n",
    "\n",
    "    # Define the callback to handle clicks\n",
    "    @app.callback(\n",
    "        Output('output-div', 'children'),\n",
    "        [Input('scatter-plot', 'clickData')]\n",
    "    )\n",
    "    def display_click_data(clickData):\n",
    "        if clickData is not None:\n",
    "            # Get the URL from the clicked point\n",
    "            url = clickData['points'][0]['customdata'][0]  # Extract the string from the list\n",
    "            # Open the URL in a new tab\n",
    "            webbrowser.open_new_tab(url)\n",
    "            return f'Link opened: {url}'\n",
    "        return 'Click on a point to open the associated URL.'\n",
    "\n",
    "    # Run the Dash app\n",
    "    app.run_server(debug=True)\n",
    "\n",
    "# Example usage\n",
    "plot_embeddings_with_dash(reduced_embeddings, documents, pmids)\n",
    "\n"
   ]
  }
 ],
 "metadata": {
  "kernelspec": {
   "display_name": "fall",
   "language": "python",
   "name": "python3"
  },
  "language_info": {
   "codemirror_mode": {
    "name": "ipython",
    "version": 3
   },
   "file_extension": ".py",
   "mimetype": "text/x-python",
   "name": "python",
   "nbconvert_exporter": "python",
   "pygments_lexer": "ipython3",
   "version": "3.10.15"
  }
 },
 "nbformat": 4,
 "nbformat_minor": 2
}
